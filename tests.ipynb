{
 "cells": [
  {
   "cell_type": "markdown",
   "metadata": {},
   "source": [
    "# TOMI INDEX"
   ]
  },
  {
   "cell_type": "markdown",
   "metadata": {},
   "source": [
    "Para realizar a interpolação do TOMI Index, insira abaixo o caminho do arquivo xlsx, xls, ou csv."
   ]
  },
  {
   "cell_type": "code",
   "execution_count": null,
   "metadata": {},
   "outputs": [],
   "source": [
    "import numpy as np\n",
    "import pandas as pd\n",
    "import matplotlib.pyplot as plt\n",
    "\n",
    "import openpyxl\n",
    "\n",
    "plt.style.use([\"bmh\"])\n",
    "\n",
    "file_name = \"./tests/@CN_OGX-49.xlsx\"\n",
    "\n",
    "dataframe = pd.read_excel(\n",
    "    file_name,\n",
    "    skiprows=0,\n",
    "    decimal=\",\",\n",
    "    sheet_name=\"TUDO\",\n",
    ")\n",
    "\n",
    "dataframe"
   ]
  },
  {
   "cell_type": "code",
   "execution_count": null,
   "metadata": {},
   "outputs": [],
   "source": [
    "print(np.min(dataframe[\"d15N\"]))\n",
    "print(np.max(dataframe[\"d15N\"]))"
   ]
  },
  {
   "cell_type": "code",
   "execution_count": null,
   "metadata": {},
   "outputs": [],
   "source": [
    "art_d15n = np.linspace(np.min(dataframe[\"d15N\"]), np.max(dataframe[\"d15N\"]), 12)\n",
    "for i in art_d15n:\n",
    "    print(int(i))"
   ]
  },
  {
   "cell_type": "code",
   "execution_count": null,
   "metadata": {},
   "outputs": [],
   "source": [
    "import numpy as np\n",
    "from pykrige.ok import OrdinaryKriging\n",
    "import matplotlib.pyplot as plt\n",
    "\n",
    "# Dados dos pontos-chave de probabilidade ARTIGO\n",
    "TOC_TN_ARTIGO = np.array(\n",
    "    [4, 4, 4, 4, 10, 10, 10, 10, 100, 100, 100, 100]\n",
    ")  # Lista/array dos valores de TOC:TN dos pontos-chave\n",
    "C13CORG_ARTIGO = np.array(\n",
    "    [-10, -22, -25, -34, -10, -22, -25, -34, -10, -22, -25, -34]\n",
    ")  # Lista/array dos valores de δ13Corg dos pontos-chave\n",
    "PROBABILIDADE = np.array(\n",
    "    [0, 10, 20, 30, 20, 30, 40, 50, 90, 95, 98, 100]\n",
    ")  # Lista/array dos valores de probabilidade dos pontos-chave\n",
    "\n",
    "# Dados das suas amostras\n",
    "amostra_art_toc_tn = dataframe[\n",
    "    \"TOC/TN\"\n",
    "]  # Lista/array dos valores de TOC:TN das suas amostras\n",
    "amostra_art_c13corg = dataframe[\n",
    "    \"d13C\"\n",
    "]  # Lista/array dos valores de δ13Corg das suas amostras\n",
    "\n",
    "# Grade de valores para interpolação\n",
    "art_toc_tn_grid = np.linspace(0, 100, 1001)  # Valores de TOC:TN para a grade\n",
    "art_c13corg_grid = np.linspace(-34, -10, 241)  # Valores de δ13Corg para a grade\n",
    "\n",
    "# Kriging\n",
    "OK = OrdinaryKriging(\n",
    "    TOC_TN_ARTIGO,\n",
    "    C13CORG_ARTIGO,\n",
    "    PROBABILIDADE,\n",
    "    variogram_model=\"gaussian\",\n",
    ")\n",
    "z, ss = OK.execute(\"grid\", art_toc_tn_grid, art_c13corg_grid)\n",
    "\n",
    "# Aplicação dos dados das suas amostras na grade interpolada\n",
    "amostra_probabilidade, ss = OK.execute(\n",
    "    \"points\", amostra_art_toc_tn, amostra_art_c13corg\n",
    ")\n",
    "\n",
    "print(np.shape(z))\n",
    "print(np.shape(amostra_probabilidade))"
   ]
  },
  {
   "cell_type": "code",
   "execution_count": null,
   "metadata": {},
   "outputs": [],
   "source": [
    "import numpy as np\n",
    "from pykrige.ok import OrdinaryKriging\n",
    "import matplotlib.pyplot as plt\n",
    "\n",
    "# Dados dos pontos-chave de probabilidade do\n",
    "art_toc_tn = np.array(\n",
    "    [4, 4, 4, 4, 10, 10, 10, 10, 100, 100, 100, 100]\n",
    ")  # Lista/array dos valores de TOC:TN dos pontos-chave\n",
    "art_c13corg = np.array(\n",
    "    [-10, -22, -25, -34, -10, -22, -25, -34, -10, -22, -25, -34]\n",
    ")  # Lista/array dos valores de δ13Corg dos pontos-chave\n",
    "art_d15n_empirico = np.array([-2, -1, -1, -1, 0, 0, 0, 0, 0, 0, 1, 1])\n",
    "amostra_probabilidade = amostra_probabilidade\n",
    "\n",
    "# Dados das suas amostras\n",
    "amostra_art_toc_tn = dataframe[\n",
    "    \"TOC/TN\"\n",
    "]  # Lista/array dos valores de TOC:TN das suas amostras\n",
    "amostra_art_c13corg = dataframe[\n",
    "    \"d13C\"\n",
    "]  # Lista/array dos valores de δ13Corg das suas amostras\n",
    "amostra_art_d15n = dataframe[\"d15N\"]\n",
    "\n",
    "# Grade de valores para interpolação\n",
    "art_toc_tn_grid = np.linspace(0, 100, 1001)  # Valores de TOC:TN para a grade\n",
    "art_d15n_grid = np.linspace(-2, 1, 241)  # Valores de δ13Corg para a grade\n",
    "\n",
    "# Kriging\n",
    "OK = OrdinaryKriging(\n",
    "    art_toc_tn,\n",
    "    art_d15n_empirico,\n",
    "    amostra_probabilidade,\n",
    "    variogram_model=\"gaussian\",\n",
    ")\n",
    "z, ss = OK.execute(\"grid\", art_toc_tn_grid, art_d15n_grid)\n",
    "\n",
    "# Aplicação dos dados das suas amostras na grade interpolada\n",
    "amostra_probabilidade_15n, ss = OK.execute(\n",
    "    \"points\", amostra_art_toc_tn, amostra_art_d15n\n",
    ")\n",
    "\n",
    "print(np.shape(z))\n",
    "print(np.shape(amostra_probabilidade_15n))"
   ]
  },
  {
   "cell_type": "code",
   "execution_count": null,
   "metadata": {},
   "outputs": [],
   "source": [
    "plt.figure(figsize=(6, 8))\n",
    "\n",
    "plt.subplot(121)\n",
    "plt.plot(amostra_probabilidade, dataframe[\"TVDSS\"], \"s-\", label=\"TOMI\")\n",
    "\n",
    "# plt.gca().invert_yaxis()\n",
    "plt.xlim(0, 100)\n",
    "plt.title(\"TOMI Index\")\n",
    "plt.xlabel(\"Index (%)\")\n",
    "\n",
    "plt.subplot(122)\n",
    "plt.plot(amostra_probabilidade2, dataframe[\"TVDSS\"], \"s-\", label=\"TOMI\")\n",
    "plt.xlim(0, 100)\n",
    "plt.title(\"TOMI Index\")\n",
    "plt.xlabel(\"Index (%)\")\n",
    "\n",
    "\n",
    "plt.show()"
   ]
  },
  {
   "cell_type": "code",
   "execution_count": null,
   "metadata": {},
   "outputs": [],
   "source": [
    "amostra_probabilidade"
   ]
  },
  {
   "cell_type": "code",
   "execution_count": null,
   "metadata": {},
   "outputs": [],
   "source": [
    "import pandas as pd\n",
    "\n",
    "fmane2 = \"./uploads/@CN_OGX-49.xlsx\"\n",
    "\n",
    "longa = pd.read_excel(fmane2, skiprows=0, sheet_name=\"TUDO\")\n",
    "\n",
    "longa.iloc[:, 0]"
   ]
  },
  {
   "cell_type": "code",
   "execution_count": null,
   "metadata": {},
   "outputs": [],
   "source": []
  }
 ],
 "metadata": {
  "kernelspec": {
   "display_name": "Python 3 (ipykernel)",
   "language": "python",
   "name": "python3"
  },
  "language_info": {
   "codemirror_mode": {
    "name": "ipython",
    "version": 3
   },
   "file_extension": ".py",
   "mimetype": "text/x-python",
   "name": "python",
   "nbconvert_exporter": "python",
   "pygments_lexer": "ipython3",
   "version": "3.12.5"
  }
 },
 "nbformat": 4,
 "nbformat_minor": 4
}
