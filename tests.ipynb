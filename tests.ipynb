{
 "cells": [
  {
   "cell_type": "code",
   "execution_count": 5,
   "metadata": {},
   "outputs": [],
   "source": [
    "import numpy as np\n",
    "import pandas as pd\n",
    "import matplotlib.pyplot as plt\n",
    "import scienceplots\n",
    "\n",
    "plt.style.use([\"science\", \"bmh\", \"notebook\", \"grid\"])\n",
    "\n",
    "# fmane = \"J:\\\\Universidade\\\\Projetos-UFF\\\\tomi.csv\"\n",
    "fmane2 = \"./uploads/@CN_LONGA.csv\"\n",
    "\n",
    "# df = pd.read_csv(fmane,\n",
    "#                  skiprows=0,\n",
    "#                  delimiter=';')\n",
    "\n",
    "# df = pd.read_csv('./uploads/tomi.csv',\n",
    "#                  skiprows=0,\n",
    "#                  delimiter=';')\n",
    "\n",
    "dataframe = pd.read_csv(\n",
    "    fmane2, skiprows=0, delimiter=\";\", usecols=(0, 1, 2, 3, 4, 5, 6)\n",
    ")\n",
    "\n",
    "profundidade = dataframe.iloc[:, 0]\n",
    "TVDSS = dataframe.iloc[:, 1]\n",
    "TN_perc = dataframe.iloc[:, 2]\n",
    "d15N = dataframe.iloc[:, 3]\n",
    "TOC_perc = dataframe.iloc[:, 4]\n",
    "d13C = dataframe.iloc[:, 5]\n",
    "TOC_TN = dataframe.iloc[:, 6]"
   ]
  },
  {
   "cell_type": "code",
   "execution_count": 17,
   "metadata": {},
   "outputs": [
    {
     "name": "stdout",
     "output_type": "stream",
     "text": [
      "(241, 1001)\n",
      "(32,)\n"
     ]
    }
   ],
   "source": [
    "import numpy as np\n",
    "from pykrige.ok import OrdinaryKriging\n",
    "import matplotlib.pyplot as plt\n",
    "\n",
    "# Dados dos pontos-chave de probabilidade\n",
    "art_toc_tn = np.array(\n",
    "    [4, 4, 4, 4, 10, 10, 10, 10, 100, 100, 100, 100]\n",
    ")  # Lista/array dos valores de TOC:TN dos pontos-chave\n",
    "art_c13corg = np.array(\n",
    "    [-10, -22, -25, -34, -10, -22, -25, -34, -10, -22, -25, -34]\n",
    ")  # Lista/array dos valores de δ13Corg dos pontos-chave\n",
    "probabilidade = np.array(\n",
    "    [0, 10, 20, 30, 20, 30, 40, 50, 90, 95, 98, 100]\n",
    ")  # Lista/array dos valores de probabilidade dos pontos-chave\n",
    "\n",
    "# Dados das suas amostras\n",
    "amostra_art_toc_tn = TOC_TN  # Lista/array dos valores de TOC:TN das suas amostras\n",
    "amostra_art_c13corg = d13C  # Lista/array dos valores de δ13Corg das suas amostras\n",
    "\n",
    "# Grade de valores para interpolação\n",
    "art_toc_tn_grid = np.linspace(0, 100, 1001)  # Valores de TOC:TN para a grade\n",
    "art_c13corg_grid = np.linspace(-34, -10, 241)  # Valores de δ13Corg para a grade\n",
    "\n",
    "# Kriging\n",
    "OK = OrdinaryKriging(\n",
    "    art_toc_tn,\n",
    "    art_c13corg,\n",
    "    probabilidade,\n",
    "    variogram_model=\"gaussian\",\n",
    ")\n",
    "z, ss = OK.execute(\"grid\", art_toc_tn_grid, art_c13corg_grid)\n",
    "\n",
    "# Aplicação dos dados das suas amostras na grade interpolada\n",
    "amostra_probabilidade, ss = OK.execute(\n",
    "    \"points\", amostra_art_toc_tn, amostra_art_c13corg\n",
    ")\n",
    "\n",
    "print(np.shape(z))\n",
    "print(np.shape(amostra_probabilidade))\n",
    "\n",
    "# scatter = plt.scatter(amostra_art_toc_tn, amostra_art_c13corg, c=amostra_probabilidade, cmap='viridis', s=30, label='Artigo')\n",
    "# plt.xlabel('TOC:TN')\n",
    "# plt.ylabel('delta13C')\n",
    "# # plt.xlim(0,1)\n",
    "# plt.ylim(-34,-20)\n",
    "# cbar = plt.colorbar(scatter)\n",
    "# cbar.set_label('tomi index')\n",
    "# plt.show()"
   ]
  },
  {
   "cell_type": "code",
   "execution_count": null,
   "metadata": {},
   "outputs": [],
   "source": [
    "plt.figure(figsize=(4, 8))\n",
    "\n",
    "plt.plot(amostra_probabilidade, profundidade, \"s-\", label=\"TOMI\")\n",
    "plt.gca().invert_yaxis()\n",
    "plt.xlim(0, 100)\n",
    "plt.title(\"TOMI Index\")\n",
    "plt.xlabel(\"Index (%)\")"
   ]
  },
  {
   "cell_type": "code",
   "execution_count": null,
   "metadata": {},
   "outputs": [],
   "source": []
  },
  {
   "cell_type": "code",
   "execution_count": 22,
   "metadata": {},
   "outputs": [
    {
     "data": {
      "text/plain": [
       "0     1665\n",
       "1     1674\n",
       "2     1677\n",
       "3     1680\n",
       "4     1683\n",
       "5     1686\n",
       "6     1689\n",
       "7     1692\n",
       "8     1695\n",
       "9     1698\n",
       "10    1701\n",
       "11    1704\n",
       "12    1707\n",
       "13    1710\n",
       "14    1713\n",
       "15    1716\n",
       "16    1719\n",
       "17    1722\n",
       "18    1725\n",
       "19    1728\n",
       "20    1731\n",
       "21    1734\n",
       "22    1737\n",
       "23    1740\n",
       "24    1743\n",
       "25    1746\n",
       "26    1749\n",
       "27    1752\n",
       "28    1755\n",
       "29    1758\n",
       "30    1761\n",
       "31    1764\n",
       "Name: Profundidade, dtype: int64"
      ]
     },
     "execution_count": 22,
     "metadata": {},
     "output_type": "execute_result"
    }
   ],
   "source": [
    "import pandas as pd\n",
    "\n",
    "fmane2 = \"./uploads/@CN_OGX-49.xlsx\"\n",
    "\n",
    "longa = pd.read_excel(fmane2, skiprows=0, sheet_name=\"TUDO\")\n",
    "\n",
    "longa.iloc[:, 0]"
   ]
  },
  {
   "cell_type": "code",
   "execution_count": null,
   "metadata": {},
   "outputs": [],
   "source": []
  }
 ],
 "metadata": {
  "kernelspec": {
   "display_name": "Python 3",
   "language": "python",
   "name": "python3"
  },
  "language_info": {
   "codemirror_mode": {
    "name": "ipython",
    "version": 3
   },
   "file_extension": ".py",
   "mimetype": "text/x-python",
   "name": "python",
   "nbconvert_exporter": "python",
   "pygments_lexer": "ipython3",
   "version": "3.12.2"
  }
 },
 "nbformat": 4,
 "nbformat_minor": 2
}
